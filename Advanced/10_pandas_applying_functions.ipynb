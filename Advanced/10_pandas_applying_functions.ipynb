{
 "cells": [
  {
   "cell_type": "markdown",
   "metadata": {},
   "source": [
    "APPLY() - CALCULATE PROJECT SALARY NEXT YEAR"
   ]
  },
  {
   "cell_type": "code",
   "execution_count": 29,
   "metadata": {},
   "outputs": [],
   "source": [
    "# Importing librairies\n",
    "import matplotlib.pyplot as plt\n",
    "import pandas as pd\n",
    "from datasets import load_dataset\n",
    "\n",
    "# Loading data\n",
    "dataset = load_dataset('lukebarousse/data_jobs')\n",
    "df = pd.DataFrame(dataset['train'])\n",
    "\n",
    "# Data Cleanup\n",
    "df['job_posted_date'] = pd.to_datetime(df['job_posted_date'])\n"
   ]
  },
  {
   "cell_type": "code",
   "execution_count": 30,
   "metadata": {},
   "outputs": [],
   "source": [
    "df_salary = df[pd.notna(df['salary_year_avg'])].reset_index()\n",
    "df_cop=df_salary.copy()"
   ]
  },
  {
   "cell_type": "code",
   "execution_count": 31,
   "metadata": {},
   "outputs": [],
   "source": [
    "def projected_salary(salary):\n",
    "    return salary*1.3\n",
    "df_salary['salary_year_inflated']=df_salary['salary_year_avg'].apply(projected_salary)"
   ]
  },
  {
   "cell_type": "code",
   "execution_count": 32,
   "metadata": {},
   "outputs": [],
   "source": [
    "# We can also do it by using an anonymous or lambda function\n",
    "df_salary['salary_year_inflated'] = df_salary['salary_year_avg'].apply(lambda salary: salary*1.3)"
   ]
  },
  {
   "cell_type": "code",
   "execution_count": 33,
   "metadata": {},
   "outputs": [],
   "source": [
    "#   Performing a cleaning in the job_skills column on df\n",
    "import ast\n",
    "def clean_job(skills):\n",
    "    if pd.notna(skills):\n",
    "        return ast.literal_eval(skills)\n",
    "df['job_skills'] = df['job_skills'].apply(clean_job)"
   ]
  },
  {
   "cell_type": "code",
   "execution_count": 34,
   "metadata": {},
   "outputs": [
    {
     "data": {
      "text/plain": [
       "0                                                      None\n",
       "1                [r, python, sql, nosql, power bi, tableau]\n",
       "2         [python, sql, c#, azure, airflow, dax, docker,...\n",
       "3         [python, c++, java, matlab, aws, tensorflow, k...\n",
       "4         [bash, python, oracle, aws, ansible, puppet, j...\n",
       "                                ...                        \n",
       "785736    [bash, python, perl, linux, unix, kubernetes, ...\n",
       "785737                               [sas, sas, sql, excel]\n",
       "785738                                  [powerpoint, excel]\n",
       "785739    [python, go, nosql, sql, mongo, shell, mysql, ...\n",
       "785740                                          [aws, flow]\n",
       "Name: job_skills, Length: 785741, dtype: object"
      ]
     },
     "execution_count": 34,
     "metadata": {},
     "output_type": "execute_result"
    }
   ],
   "source": [
    "# Checking\n",
    "df['job_skills']"
   ]
  },
  {
   "cell_type": "code",
   "execution_count": 35,
   "metadata": {},
   "outputs": [],
   "source": [
    "# We can also do it by using a lambda function\n",
    "df_cop['job_skills'] = df_cop['job_skills'].apply(lambda skill: ast.literal_eval(skill) if pd.notna(skill) else skill)"
   ]
  },
  {
   "cell_type": "code",
   "execution_count": 36,
   "metadata": {},
   "outputs": [
    {
     "data": {
      "text/plain": [
       "0                                            [gdpr, excel]\n",
       "1        [mongodb, mongodb, python, r, sql, mysql, mari...\n",
       "2                                            [sql, python]\n",
       "3                                [sql, r, python, express]\n",
       "4                            [python, r, alteryx, tableau]\n",
       "                               ...                        \n",
       "21998    [go, python, r, sql, oracle, windows, alteryx,...\n",
       "21999                                                 None\n",
       "22000                    [python, azure, snowflake, spark]\n",
       "22001         [python, hadoop, spark, airflow, kubernetes]\n",
       "22002                                  [python, matlab, r]\n",
       "Name: job_skills, Length: 22003, dtype: object"
      ]
     },
     "execution_count": 36,
     "metadata": {},
     "output_type": "execute_result"
    }
   ],
   "source": [
    "# Checking\n",
    "df_cop['job_skills']"
   ]
  },
  {
   "cell_type": "code",
   "execution_count": 37,
   "metadata": {},
   "outputs": [
    {
     "data": {
      "text/html": [
       "<div>\n",
       "<style scoped>\n",
       "    .dataframe tbody tr th:only-of-type {\n",
       "        vertical-align: middle;\n",
       "    }\n",
       "\n",
       "    .dataframe tbody tr th {\n",
       "        vertical-align: top;\n",
       "    }\n",
       "\n",
       "    .dataframe thead th {\n",
       "        text-align: right;\n",
       "    }\n",
       "</style>\n",
       "<table border=\"1\" class=\"dataframe\">\n",
       "  <thead>\n",
       "    <tr style=\"text-align: right;\">\n",
       "      <th></th>\n",
       "      <th>job_title_short</th>\n",
       "      <th>salary_year_avg</th>\n",
       "    </tr>\n",
       "  </thead>\n",
       "  <tbody>\n",
       "    <tr>\n",
       "      <th>0</th>\n",
       "      <td>Data Scientist</td>\n",
       "      <td>164250.0</td>\n",
       "    </tr>\n",
       "    <tr>\n",
       "      <th>1</th>\n",
       "      <td>Data Engineer</td>\n",
       "      <td>210000.0</td>\n",
       "    </tr>\n",
       "    <tr>\n",
       "      <th>2</th>\n",
       "      <td>Data Engineer</td>\n",
       "      <td>180000.0</td>\n",
       "    </tr>\n",
       "    <tr>\n",
       "      <th>3</th>\n",
       "      <td>Data Scientist</td>\n",
       "      <td>342333.0</td>\n",
       "    </tr>\n",
       "    <tr>\n",
       "      <th>4</th>\n",
       "      <td>Data Analyst</td>\n",
       "      <td>133500.0</td>\n",
       "    </tr>\n",
       "    <tr>\n",
       "      <th>...</th>\n",
       "      <td>...</td>\n",
       "      <td>...</td>\n",
       "    </tr>\n",
       "    <tr>\n",
       "      <th>21998</th>\n",
       "      <td>Data Engineer</td>\n",
       "      <td>208824.0</td>\n",
       "    </tr>\n",
       "    <tr>\n",
       "      <th>21999</th>\n",
       "      <td>Data Engineer</td>\n",
       "      <td>225000.0</td>\n",
       "    </tr>\n",
       "    <tr>\n",
       "      <th>22000</th>\n",
       "      <td>Data Scientist</td>\n",
       "      <td>332812.5</td>\n",
       "    </tr>\n",
       "    <tr>\n",
       "      <th>22001</th>\n",
       "      <td>Data Scientist</td>\n",
       "      <td>236250.0</td>\n",
       "    </tr>\n",
       "    <tr>\n",
       "      <th>22002</th>\n",
       "      <td>Data Scientist</td>\n",
       "      <td>236250.0</td>\n",
       "    </tr>\n",
       "  </tbody>\n",
       "</table>\n",
       "<p>22003 rows × 2 columns</p>\n",
       "</div>"
      ],
      "text/plain": [
       "      job_title_short  salary_year_avg\n",
       "0      Data Scientist         164250.0\n",
       "1       Data Engineer         210000.0\n",
       "2       Data Engineer         180000.0\n",
       "3      Data Scientist         342333.0\n",
       "4        Data Analyst         133500.0\n",
       "...               ...              ...\n",
       "21998   Data Engineer         208824.0\n",
       "21999   Data Engineer         225000.0\n",
       "22000  Data Scientist         332812.5\n",
       "22001  Data Scientist         236250.0\n",
       "22002  Data Scientist         236250.0\n",
       "\n",
       "[22003 rows x 2 columns]"
      ]
     },
     "execution_count": 37,
     "metadata": {},
     "output_type": "execute_result"
    }
   ],
   "source": [
    "# We are gonna test the apply() method on rows now using the df_salary method\n",
    "df_salary['salary_year_avg'] = df_salary.apply( lambda row : 1.5 * row['salary_year_avg'] if 'Senior' in row['job_title_short'] else 1.5 * row['salary_year_avg'], axis=1 )\n",
    "df_salary[['job_title_short', 'salary_year_avg']]"
   ]
  }
 ],
 "metadata": {
  "kernelspec": {
   "display_name": "python_course",
   "language": "python",
   "name": "python3"
  },
  "language_info": {
   "codemirror_mode": {
    "name": "ipython",
    "version": 3
   },
   "file_extension": ".py",
   "mimetype": "text/x-python",
   "name": "python",
   "nbconvert_exporter": "python",
   "pygments_lexer": "ipython3",
   "version": "3.11.9"
  }
 },
 "nbformat": 4,
 "nbformat_minor": 2
}
