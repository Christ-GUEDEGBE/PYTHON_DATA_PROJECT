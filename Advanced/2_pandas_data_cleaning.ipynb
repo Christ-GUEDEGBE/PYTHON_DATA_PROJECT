{
 "cells": [
  {
   "cell_type": "code",
   "execution_count": 2,
   "metadata": {},
   "outputs": [],
   "source": [
    "# Importing librairies\n",
    "import matplotlib.pyplot as plt\n",
    "import pandas as pd\n",
    "from datasets import load_dataset\n",
    "\n",
    "# Loading data\n",
    "dataset = load_dataset('lukebarousse/data_jobs')\n",
    "df = pd.DataFrame(dataset['train'])\n",
    "\n",
    "# Data Cleanup\n",
    "df['job_posted_date'] = pd.to_datetime(df['job_posted_date'])\n"
   ]
  },
  {
   "cell_type": "code",
   "execution_count": 24,
   "metadata": {},
   "outputs": [],
   "source": [
    "df_filled = df\n",
    "\n",
    "# Replace NaN in the 'salary_year_avg' column with the median of that column\n",
    "median_salary_year = df['salary_year_avg'].median()\n",
    "df_filled['salary_year_avg'] = df_filled['salary_year_avg'].fillna(median_salary_year)\n",
    "\n",
    "# Replace NaN in the 'salary_hour_avg' column with the median of that column\n",
    "median_salary_hour = df['salary_hour_avg'].median()\n",
    "df_filled['salary_hour_avg'] = df_filled['salary_hour_avg'].fillna(median_salary_hour)\n"
   ]
  },
  {
   "cell_type": "markdown",
   "metadata": {},
   "source": [
    "Now, we'll be creating a new dataframe with all duplicates dropped and testing."
   ]
  },
  {
   "cell_type": "code",
   "execution_count": 29,
   "metadata": {},
   "outputs": [
    {
     "name": "stdout",
     "output_type": "stream",
     "text": [
      "Number of rows before removing duplicates: 785741\n",
      "Number of rows after removing duplicates: 785640\n",
      "Difference in the number of rows: 101\n"
     ]
    }
   ],
   "source": [
    "df_unique = df_filled\n",
    "\n",
    "# Total number of rows before removing duplicates\n",
    "before_count = df_unique.shape[0]\n",
    "\n",
    "# Remove duplicates in the entire dataframe\n",
    "df_unique = df_unique.drop_duplicates()\n",
    "\n",
    "# Total number of rows after removing duplicates\n",
    "after_count = df_unique.shape[0]\n",
    "\n",
    "# Calculate the difference\n",
    "difference = before_count - after_count\n",
    "\n",
    "# Display the results\n",
    "print(f\"Number of rows before removing duplicates: {before_count}\")\n",
    "print(f\"Number of rows after removing duplicates: {after_count}\")\n",
    "print(f\"Difference in the number of rows: {difference}\")"
   ]
  },
  {
   "cell_type": "markdown",
   "metadata": {},
   "source": [
    "Drop duplicates in this dataframe, based on the columns 'company name' and 'job_title'"
   ]
  },
  {
   "cell_type": "code",
   "execution_count": 31,
   "metadata": {},
   "outputs": [
    {
     "name": "stdout",
     "output_type": "stream",
     "text": [
      "Number of rows before removing duplicates: 785640\n",
      "Number of rows after removing duplicates: 508042\n",
      "Difference in the number of rows: 277598\n"
     ]
    }
   ],
   "source": [
    "\n",
    "# Total number of rows before removing duplicates\n",
    "before_count_0 = df_unique.shape[0]\n",
    "\n",
    "# Remove duplicates\n",
    "df_unique = df_unique.drop_duplicates(subset=['company_name','job_title'])\n",
    "\n",
    "# Total number of rows after removing duplicates\n",
    "after_count_0 = df_unique.shape[0]\n",
    "\n",
    "# Calculate the difference\n",
    "difference_0 = before_count_0 - after_count_0\n",
    "\n",
    "# Display the results\n",
    "print(f\"Number of rows before removing duplicates: {before_count_0}\")\n",
    "print(f\"Number of rows after removing duplicates: {after_count_0}\")\n",
    "print(f\"Difference in the number of rows: {difference_0}\")\n"
   ]
  }
 ],
 "metadata": {
  "kernelspec": {
   "display_name": "python_course",
   "language": "python",
   "name": "python3"
  },
  "language_info": {
   "codemirror_mode": {
    "name": "ipython",
    "version": 3
   },
   "file_extension": ".py",
   "mimetype": "text/x-python",
   "name": "python",
   "nbconvert_exporter": "python",
   "pygments_lexer": "ipython3",
   "version": "3.11.9"
  }
 },
 "nbformat": 4,
 "nbformat_minor": 2
}
